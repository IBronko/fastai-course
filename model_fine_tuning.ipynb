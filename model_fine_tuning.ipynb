{
  "cells": [
    {
      "cell_type": "markdown",
      "metadata": {
        "id": "a6XmWTuT32BZ"
      },
      "source": [
        "# Installation and imports"
      ]
    },
    {
      "cell_type": "code",
      "execution_count": null,
      "metadata": {
        "id": "_x-BTyt21Dby"
      },
      "outputs": [],
      "source": [
        "!pip install fastbook"
      ]
    },
    {
      "cell_type": "code",
      "execution_count": null,
      "metadata": {
        "id": "wMlfkkpc1RvR"
      },
      "outputs": [],
      "source": [
        "from fastbook import *\n",
        "from fastai.vision.widgets import *"
      ]
    },
    {
      "cell_type": "markdown",
      "metadata": {
        "id": "_z2Gokfv4KxW"
      },
      "source": [
        "# Create folders and download data"
      ]
    },
    {
      "cell_type": "code",
      "execution_count": null,
      "metadata": {
        "id": "vlufoue21XCP"
      },
      "outputs": [],
      "source": [
        "path = Path('fruits')\n",
        "if not path.exists():\n",
        "  path.mkdir()"
      ]
    },
    {
      "cell_type": "code",
      "execution_count": null,
      "metadata": {
        "id": "oLNQsJi31Zku"
      },
      "outputs": [],
      "source": [
        "fruit_types = \"dragon fruit\", \"jackfruit\", \"mangosteen\", \"durian\", \"tamarind\", \"rambutan\", \"custard apple\", \"rose apple\", \"pomelo\", \"sapodilla\", \"salak fruit\", \"thai bananas\", \"nam dok mai mango\""
      ]
    },
    {
      "cell_type": "code",
      "execution_count": null,
      "metadata": {
        "id": "oAn9G0Pz1clR"
      },
      "outputs": [],
      "source": [
        "for f in fruit_types:\n",
        "  dest = (path/f)\n",
        "  dest.mkdir(exist_ok=True)\n",
        "  results = search_images_ddg(f\"{f}\", max_images=100)\n",
        "  download_images(dest, urls=results)\n",
        "\n",
        "fns = get_image_files(path)\n",
        "print(fns)"
      ]
    },
    {
      "cell_type": "code",
      "execution_count": null,
      "metadata": {
        "id": "OK_rSyQ91ge5"
      },
      "outputs": [],
      "source": [
        "failed = verify_images(fns)\n",
        "failed.map(Path.unlink)"
      ]
    },
    {
      "cell_type": "markdown",
      "metadata": {
        "id": "rl0fIer_4SBw"
      },
      "source": [
        "# Create Dataloaders"
      ]
    },
    {
      "cell_type": "code",
      "execution_count": null,
      "metadata": {
        "id": "iZHSnQtD1oFl"
      },
      "outputs": [],
      "source": [
        "fruits = DataBlock(\n",
        "    blocks=(ImageBlock, CategoryBlock), \n",
        "    get_items=get_image_files, \n",
        "    splitter=RandomSplitter(valid_pct=0.2, seed=42),\n",
        "    get_y=parent_label,\n",
        "    item_tfms=Resize(128))"
      ]
    },
    {
      "cell_type": "code",
      "execution_count": null,
      "metadata": {
        "id": "jLGxu5FI1quv"
      },
      "outputs": [],
      "source": [
        "fruits = fruits.new(\n",
        "    item_tfms=RandomResizedCrop(224, min_scale=0.5),\n",
        "    batch_tfms=aug_transforms())"
      ]
    },
    {
      "cell_type": "code",
      "execution_count": null,
      "metadata": {
        "id": "spqLCWR91vQu"
      },
      "outputs": [],
      "source": [
        "dls = fruits.dataloaders(path)"
      ]
    },
    {
      "cell_type": "code",
      "execution_count": null,
      "metadata": {
        "id": "-UKG_Hcu1xme"
      },
      "outputs": [],
      "source": [
        "dls.valid.show_batch(max_n=4, nrows=1)"
      ]
    },
    {
      "cell_type": "markdown",
      "metadata": {
        "id": "Aur-rb0BPZjS"
      },
      "source": [
        "# Create Learner and fine-tune"
      ]
    },
    {
      "cell_type": "code",
      "execution_count": null,
      "metadata": {
        "id": "itxlLymbPjAX"
      },
      "outputs": [],
      "source": [
        "learn = vision_learner(dls, resnet18, metrics=error_rate)\n",
        "learn.fine_tune(4)"
      ]
    },
    {
      "cell_type": "code",
      "execution_count": null,
      "metadata": {
        "id": "QeoptFzMSRzq"
      },
      "outputs": [],
      "source": [
        "interp = ClassificationInterpretation.from_learner(learn)\n",
        "interp.plot_confusion_matrix(figsize=(10, 10))"
      ]
    },
    {
      "cell_type": "markdown",
      "metadata": {
        "id": "Qz2au-y4YUQ6"
      },
      "source": [
        "# Optional step: Data cleaning"
      ]
    },
    {
      "cell_type": "code",
      "execution_count": null,
      "metadata": {
        "id": "U-WKLp_VSgh7"
      },
      "outputs": [],
      "source": [
        "interp.plot_top_losses(5, nrows=5)"
      ]
    },
    {
      "cell_type": "code",
      "execution_count": null,
      "metadata": {
        "id": "Lu93eGpsTwVZ"
      },
      "outputs": [],
      "source": [
        "cleaner = ImageClassifierCleaner(learn)\n",
        "cleaner"
      ]
    },
    {
      "cell_type": "code",
      "execution_count": null,
      "metadata": {
        "id": "hiWENHOxYhvs"
      },
      "outputs": [],
      "source": [
        "# for idx in cleaner.delete(): cleaner.fns[idx].unlink()\n",
        "\n",
        "# for idx,cat in cleaner.change(): shutil.move(str(cleaner.fns[idx]), path/cat)"
      ]
    },
    {
      "cell_type": "markdown",
      "source": [
        "# Save fine-tuned model"
      ],
      "metadata": {
        "id": "IujoCVjTgr8k"
      }
    },
    {
      "cell_type": "code",
      "source": [
        "learn.export()"
      ],
      "metadata": {
        "id": "wvAi62kKgu5_"
      },
      "execution_count": null,
      "outputs": []
    }
  ],
  "metadata": {
    "accelerator": "GPU",
    "colab": {
      "collapsed_sections": [
        "a6XmWTuT32BZ",
        "_z2Gokfv4KxW",
        "rl0fIer_4SBw",
        "Aur-rb0BPZjS",
        "Qz2au-y4YUQ6"
      ],
      "name": "model-fine-tuning.ipynb",
      "provenance": []
    },
    "gpuClass": "standard",
    "kernelspec": {
      "display_name": "Python 3",
      "name": "python3"
    },
    "language_info": {
      "name": "python"
    }
  },
  "nbformat": 4,
  "nbformat_minor": 0
}