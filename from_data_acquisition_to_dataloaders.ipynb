{
  "nbformat": 4,
  "nbformat_minor": 0,
  "metadata": {
    "colab": {
      "name": "from-data-acquisition-to-dataloaders.ipynb",
      "provenance": [],
      "collapsed_sections": []
    },
    "kernelspec": {
      "name": "python3",
      "display_name": "Python 3"
    },
    "language_info": {
      "name": "python"
    },
    "accelerator": "GPU",
    "gpuClass": "standard"
  },
  "cells": [
    {
      "cell_type": "markdown",
      "source": [
        "# Installation and imports"
      ],
      "metadata": {
        "id": "a6XmWTuT32BZ"
      }
    },
    {
      "cell_type": "code",
      "execution_count": null,
      "metadata": {
        "id": "_x-BTyt21Dby"
      },
      "outputs": [],
      "source": [
        "!pip install fastbook"
      ]
    },
    {
      "cell_type": "code",
      "source": [
        "from fastbook import *\n",
        "from fastai.vision.widgets import *"
      ],
      "metadata": {
        "id": "wMlfkkpc1RvR"
      },
      "execution_count": null,
      "outputs": []
    },
    {
      "cell_type": "markdown",
      "source": [
        "# Create folders and download data"
      ],
      "metadata": {
        "id": "_z2Gokfv4KxW"
      }
    },
    {
      "cell_type": "code",
      "source": [
        "path = Path('fruits')\n",
        "if not path.exists():\n",
        "  path.mkdir()"
      ],
      "metadata": {
        "id": "vlufoue21XCP"
      },
      "execution_count": null,
      "outputs": []
    },
    {
      "cell_type": "code",
      "source": [
        "fruit_types = \"dragon fruit\", \"jackfruit\", \"mangosteen\", \"durian\", \"tamarind\", \"rambutan\", \"custard apple\", \"rose apple\", \"pomelo\", \"sapodilla\", \"salak fruit\", \"thai bananas\", \"nam dok mai mango\""
      ],
      "metadata": {
        "id": "oLNQsJi31Zku"
      },
      "execution_count": null,
      "outputs": []
    },
    {
      "cell_type": "code",
      "source": [
        "for f in fruit_types:\n",
        "  dest = (path/f)\n",
        "  dest.mkdir(exist_ok=True)\n",
        "  results = search_images_ddg(f\"{f}\", max_images=10)\n",
        "  download_images(dest, urls=results)\n",
        "\n",
        "fns = get_image_files(path)\n",
        "print(fns)"
      ],
      "metadata": {
        "id": "oAn9G0Pz1clR"
      },
      "execution_count": null,
      "outputs": []
    },
    {
      "cell_type": "code",
      "source": [
        "failed = verify_images(fns)\n",
        "failed.map(Path.unlink)"
      ],
      "metadata": {
        "id": "OK_rSyQ91ge5"
      },
      "execution_count": null,
      "outputs": []
    },
    {
      "cell_type": "markdown",
      "source": [
        "# Create Dataloaders"
      ],
      "metadata": {
        "id": "rl0fIer_4SBw"
      }
    },
    {
      "cell_type": "code",
      "source": [
        "fruits = DataBlock(\n",
        "    blocks=(ImageBlock, CategoryBlock), \n",
        "    get_items=get_image_files, \n",
        "    splitter=RandomSplitter(valid_pct=0.2, seed=42),\n",
        "    get_y=parent_label,\n",
        "    item_tfms=Resize(128))"
      ],
      "metadata": {
        "id": "iZHSnQtD1oFl"
      },
      "execution_count": null,
      "outputs": []
    },
    {
      "cell_type": "code",
      "source": [
        "fruits = fruits.new(\n",
        "    item_tfms=RandomResizedCrop(224, min_scale=0.5),\n",
        "    batch_tfms=aug_transforms())"
      ],
      "metadata": {
        "id": "jLGxu5FI1quv"
      },
      "execution_count": null,
      "outputs": []
    },
    {
      "cell_type": "code",
      "source": [
        "dls = fruits.dataloaders(path)"
      ],
      "metadata": {
        "id": "spqLCWR91vQu"
      },
      "execution_count": null,
      "outputs": []
    },
    {
      "cell_type": "code",
      "source": [
        "dls.valid.show_batch(max_n=4, nrows=1)"
      ],
      "metadata": {
        "id": "-UKG_Hcu1xme"
      },
      "execution_count": null,
      "outputs": []
    }
  ]
}